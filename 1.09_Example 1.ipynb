{
 "cells": [
  {
   "cell_type": "code",
   "execution_count": null,
   "metadata": {},
   "outputs": [],
   "source": [
    "import cv2\n",
    "import numpy as np\n",
    "\n",
    "image = cv2.imread(\"image/cat.jpg\")\n",
    "   \n",
    "height = image.shape[0]\n",
    "width = image.shape[1]\n",
    "\n",
    "roi = [\n",
    "    (0, height / 3),\n",
    "    (width/2, height/3),\n",
    "    (width/2, height * 2 / 3),\n",
    "    (0, height * 2 / 3)\n",
    "]\n",
    "\n",
    "vertices = np.array([roi], np.int32)\n",
    "mask = np.zeros_like(image)\n",
    "match_mask_color = (255, ) * 3\n",
    "cv2.fillPoly(mask, vertices, match_mask_color)\n",
    "\n",
    "masked_image = cv2.bitwise_and(image, mask)\n",
    "\n",
    "cv2.imshow('result', masked_image)\n",
    "cv2.waitKey(0)\n",
    "cv2.destroyAllWindows()"
   ]
  },
  {
   "cell_type": "code",
   "execution_count": null,
   "metadata": {},
   "outputs": [],
   "source": []
  }
 ],
 "metadata": {
  "kernelspec": {
   "display_name": "Python 2",
   "language": "python",
   "name": "python2"
  },
  "language_info": {
   "codemirror_mode": {
    "name": "ipython",
    "version": 2
   },
   "file_extension": ".py",
   "mimetype": "text/x-python",
   "name": "python",
   "nbconvert_exporter": "python",
   "pygments_lexer": "ipython2",
   "version": "2.7.12"
  }
 },
 "nbformat": 4,
 "nbformat_minor": 4
}
