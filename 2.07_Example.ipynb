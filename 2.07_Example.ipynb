{
 "cells": [
  {
   "cell_type": "code",
   "execution_count": 1,
   "metadata": {},
   "outputs": [],
   "source": [
    "import cv2\n",
    "import numpy as np\n",
    "\n",
    "img = cv2.imread(\"image/cat.jpg\")\n",
    "height, width, channel = img.shape\n",
    "\n",
    "face_image = img[int(height/3) : int(height * 2 / 3), 0:int(width/2)]\n",
    "height, width, channel = face_image.shape\n",
    "\n",
    "canvas = np.zeros((height*2, width*2, channel), np.uint8)\n",
    "\n",
    "gray = cv2.cvtColor(face_image, cv2.COLOR_BGR2GRAY)\n",
    "canny = cv2.cvtColor(cv2.Canny(gray, 125, 255), cv2.COLOR_GRAY2BGR)\n",
    "blur = cv2.GaussianBlur(face_image, (15, 15), -1)\n",
    "gray = cv2.cvtColor(gray, cv2.COLOR_GRAY2BGR)\n",
    "\n",
    "canvas[0:height, 0:width] = face_image\n",
    "canvas[height:height*2, 0:width] = gray\n",
    "canvas[0:height, width:width*2] = canny\n",
    "canvas[height:height*2, width:width*2] = blur\n",
    "    \n",
    "cv2.imshow(\"POP ART!\", canvas)\n",
    "cv2.waitKey(0)\n",
    "cv2.destroyAllWindows()"
   ]
  }
 ],
 "metadata": {
  "kernelspec": {
   "display_name": "Python 2",
   "language": "python",
   "name": "python2"
  },
  "language_info": {
   "codemirror_mode": {
    "name": "ipython",
    "version": 2
   },
   "file_extension": ".py",
   "mimetype": "text/x-python",
   "name": "python",
   "nbconvert_exporter": "python",
   "pygments_lexer": "ipython2",
   "version": "2.7.12"
  }
 },
 "nbformat": 4,
 "nbformat_minor": 4
}
