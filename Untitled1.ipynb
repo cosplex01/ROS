{
 "cells": [
  {
   "cell_type": "code",
   "execution_count": null,
   "metadata": {},
   "outputs": [],
   "source": [
    "import cv2\n",
    "capture =cv2.VideoCapture(\"image/sea.mp4\")\n",
    "\n",
    "while True:\n",
    "    if(capture.get(cv2.CAP_PROP_POS_FRAMES) == capture.get(cv2.CAP_PROP_FRAME_COUNT)):\n",
    "        capture.open(\"Image/sea.mp4\")\n",
    "        \n",
    "    ret, frame = capture.read()\n",
    "    cv2.imshow(\"VideoFrame\", frame)\n",
    "    \n",
    "    if cv2.waitKey(33) >0 : break\n",
    "    \n",
    "capture.release()\n",
    "cv2.destroyAllWindows()"
   ]
  },
  {
   "cell_type": "code",
   "execution_count": null,
   "metadata": {},
   "outputs": [],
   "source": [
    "import cv2\n",
    "\n",
    "img = cv2.imread(\"image/moon.jpg\", cv2.IMREAD_COLOR)\n",
    "\n",
    "height, width, channel = img.shape\n",
    "result1 = cv2.pyrUp(img);\n",
    "result2 = cv2.pyrDown(img);\n",
    "\n",
    "cv2.imshow(\"img\",img)\n",
    "cv2.imshow(\"result1\",result1)\n",
    "cv2.imshow(\"result2\",result2)\n",
    "cv2.waitKey(0)\n",
    "cv2.destroyAllWindows()"
   ]
  },
  {
   "cell_type": "code",
   "execution_count": null,
   "metadata": {},
   "outputs": [],
   "source": [
    "import cv2\n",
    "\n",
    "img = cv2.imread(\"image/moon.jpg\", cv2.IMREAD_COLOR)\n",
    "\n",
    "result1 = cv2.resize(img, dsize=(640,480), interpolation=cv2.INTER_AREA)\n",
    "result2 = cv2.resize(img, dsize=(0,0),fx=0.2, fy=0.2, interpolation=cv2.INTER_LINEAR)\n",
    "\n",
    "cv2.imshow(\"img\",img)\n",
    "cv2.imshow(\"result1\",result1)\n",
    "cv2.imshow(\"result2\",result2)\n",
    "cv2.waitKey(0)\n",
    "cv2.destroyAllWindows()"
   ]
  },
  {
   "cell_type": "code",
   "execution_count": null,
   "metadata": {},
   "outputs": [],
   "source": [
    "import cv2\n",
    "\n",
    "image = cv2.imread(\"image/cat.jpg\")\n",
    "crop = image[100:400, 100:300]\n",
    "\n",
    "cv2.imshow(\"Crop image\", crop)\n",
    "cv2.imshow(\"image\",image)\n",
    "cv2.waitKey(0)\n",
    "cv2.destroyAllWindows()"
   ]
  },
  {
   "cell_type": "code",
   "execution_count": null,
   "metadata": {},
   "outputs": [
    {
     "name": "stdout",
     "output_type": "stream",
     "text": [
      "('height, width, channel', (512, 512, 3))\n"
     ]
    }
   ],
   "source": [
    "import cv2\n",
    "import numpy as np\n",
    "\n",
    "img = cv2.imread(\"image/Lenna.png\")\n",
    "img_h = img.shape[0]\n",
    "img_w = img.shape[1]\n",
    "print(\"height, width, channel\", img.shape)\n",
    "\n",
    "roi =[ (200, img_h/2), (200,img_h/3.1), (img_w/1.5, img_h/3.1), (img_w/1.5, img_h/2) ]\n",
    "\n",
    "vertices = np.array([roi], np.int32)\n",
    "mask = np.zeros_like(img)\n",
    "\n",
    "match_mask_color = (255,) * 3\n",
    "cv2.fillPoly(mask, vertices, match_mask_color)\n",
    "masked_image = cv2.bitwise_and(img, mask)\n",
    "\n",
    "cv2.imshow('image', img)\n",
    "cv2.imshow('crop image', masked_image)\n",
    "cv2.waitKey(0)\n",
    "cv2.destroyAllWindows()"
   ]
  },
  {
   "cell_type": "code",
   "execution_count": 3,
   "metadata": {},
   "outputs": [],
   "source": [
    "import cv2\n",
    "\n",
    "img = cv2.imread(\"image/Lenna.png\", cv2.IMREAD_COLOR)\n",
    "\n",
    "gray = cv2.cvtColor(img, cv2.COLOR_RGB2GRAY)\n",
    "\n",
    "cv2.imshow(\"img\", img)\n",
    "cv2.imshow(\"graycscle img\", gray)\n",
    "cv2.waitKey(0)\n",
    "cv2.destroyAllWindows()"
   ]
  },
  {
   "cell_type": "code",
   "execution_count": 5,
   "metadata": {},
   "outputs": [],
   "source": [
    "import cv2\n",
    "\n",
    "img = cv2.imread(\"image/Lenna.png\", cv2.IMREAD_COLOR)\n",
    "\n",
    "gray = cv2.cvtColor(img, cv2.COLOR_RGB2GRAY)\n",
    "ret, threshold = cv2.threshold(gray, 100,255, cv2.THRESH_BINARY)\n",
    "\n",
    "cv2.imshow(\"img\", img)\n",
    "cv2.imshow(\"threshold\", threshold)\n",
    "cv2.waitKey(0)\n",
    "cv2.destroyAllWindows()"
   ]
  },
  {
   "cell_type": "code",
   "execution_count": 6,
   "metadata": {},
   "outputs": [],
   "source": [
    "import cv2\n",
    "\n",
    "img = cv2.imread(\"image/Lenna.png\", cv2.IMREAD_COLOR)\n",
    "blur = cv2.blur(img, (9,9), anchor=(-1,-1),borderType=cv2.BORDER_DEFAULT)\n",
    "gaus = cv2.GaussianBlur(img, (9,9), -1)\n",
    "\n",
    "cv2.imshow(\"img\", img)\n",
    "cv2.imshow(\"blur\", blur)\n",
    "cv2.imshow(\"gausian\", gaus)\n",
    "cv2.waitKey(0)\n",
    "cv2.destroyAllWindows()"
   ]
  },
  {
   "cell_type": "code",
   "execution_count": 11,
   "metadata": {},
   "outputs": [],
   "source": [
    "import cv2\n",
    "import numpy as np\n",
    "\n",
    "img = cv2.imread(\"image/Lenna.png\", cv2.IMREAD_COLOR).astype(np.float32)/255.0\n",
    "\n",
    "row,col, ch = img.shape\n",
    "\n",
    "mean = 0\n",
    "sigma = 0.1\n",
    "gauss = np.random.normal(mean, sigma,(row,col,ch))\n",
    "gauss = gauss.reshape(row,col,ch)\n",
    "noisy = img + gauss\n",
    "\n",
    "cv2.imshow(\"img\", img)\n",
    "cv2.imshow(\"gause\", gauss)\n",
    "cv2.imshow(\"noisy\", noisy)\n",
    "cv2.waitKey(0)\n",
    "cv2.destroyAllWindows()"
   ]
  },
  {
   "cell_type": "code",
   "execution_count": 14,
   "metadata": {},
   "outputs": [],
   "source": [
    "import cv2\n",
    "\n",
    "img = cv2.imread(\"image/Lenna.png\", cv2.IMREAD_COLOR)\n",
    "gray = cv2.cvtColor(img, cv2.COLOR_RGB2GRAY)\n",
    "\n",
    "canny = cv2.Canny(img,100,255)\n",
    "sobel = cv2.Sobel(gray,cv2.CV_8U, 1,0,3)\n",
    "laplacian = cv2.Laplacian(gray, cv2.CV_8U, ksize=3)\n",
    "\n",
    "cv2.imshow(\"canny\", canny)\n",
    "cv2.imshow(\"sobel\", sobel)\n",
    "cv2.imshow(\"laplacian\", laplacian)\n",
    "cv2.waitKey(0)\n",
    "cv2.destroyAllWindows()"
   ]
  },
  {
   "cell_type": "code",
   "execution_count": null,
   "metadata": {},
   "outputs": [],
   "source": [
    "#black canbas make\n",
    "import cv2\n",
    "import numpy as np\n",
    "\n",
    "img = cv2.imread(\"image/cat.jpg\")\n",
    "height, width, channel = img.shape #main image case ractangle size\n",
    "\n",
    "face_image = img[int(height/3): int(height *2/3), 0:int(width/2)] #cat image croping area\n",
    "\n",
    "height, width, channel = face_image.shape #make the ractange area at the croping cat image\n",
    "\n",
    "canvas = np.zeros((height*2, width*2, channel), np.uint8)\n",
    "canvas[0:height, 0:width] = face_image\n",
    "\n",
    "gray = cv2.cvtColor(face_image, cv2.COLOR_BGR2GRAY)\n",
    "canny = cv2.cvtColor(cv2.Canny(gray, 125, 255), cv2.COLOR_GRAY2BGR)\n",
    "blur = cv2.GaussianBlur(face_image, (15, 15), -1)\n",
    "gray = cv2.cvtColor(gray, cv2.COLOR_GRAY2BGR)\n",
    "\n",
    "canvas[0:height, 0:width] = face_image\n",
    "canvas[height:height*2, 0:width] = gray\n",
    "canvas[0:height, width:width*2] = canny\n",
    "canvas[height:height*2, width:width*2] = blur\n",
    "\n",
    "cv2.imshow(\"pop art1\", canvas)\n",
    "cv2.waitKey(0)\n",
    "cv2.destroyAllWindows()"
   ]
  }
 ],
 "metadata": {
  "kernelspec": {
   "display_name": "Python 2",
   "language": "python",
   "name": "python2"
  },
  "language_info": {
   "codemirror_mode": {
    "name": "ipython",
    "version": 2
   },
   "file_extension": ".py",
   "mimetype": "text/x-python",
   "name": "python",
   "nbconvert_exporter": "python",
   "pygments_lexer": "ipython2",
   "version": "2.7.12"
  }
 },
 "nbformat": 4,
 "nbformat_minor": 2
}
